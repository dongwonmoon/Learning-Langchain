{
 "cells": [
  {
   "cell_type": "code",
   "execution_count": 1,
   "id": "3dd43644",
   "metadata": {},
   "outputs": [],
   "source": [
    "from typing import Annotated, Literal, TypedDict\n",
    "\n",
    "from langchain_core.documents import Document\n",
    "from langchain_core.messages import HumanMessage, SystemMessage\n",
    "from langchain_core.vectorstores.in_memory import InMemoryVectorStore\n",
    "from langchain_ollama import ChatOllama, OllamaEmbeddings\n",
    "from langgraph.graph import END, START, StateGraph\n",
    "from langgraph.graph.message import add_messages\n",
    "\n",
    "embeddings = OllamaEmbeddings(model=\"nomic-embed-text\")\n",
    "# SQL 쿼리 생성용\n",
    "model_low_temp = ChatOllama(model=\"gemma3:1b\", temperature=0.1)\n",
    "# 자연어 출력 생성용\n",
    "model_high_temp = ChatOllama(model=\"gemma3:1b\", temperature=0.7)\n",
    "\n",
    "\n",
    "class State(TypedDict):\n",
    "    # 대화 기록\n",
    "    messages: Annotated[list, add_messages]\n",
    "    # 입력\n",
    "    user_query: str\n",
    "    # 출력\n",
    "    domain: Literal[\"records\", \"insurance\"]\n",
    "    documents: list[Document]\n",
    "    answer: str\n",
    "\n",
    "\n",
    "class Input(TypedDict):\n",
    "    user_query: str\n",
    "\n",
    "\n",
    "class Output(TypedDict):\n",
    "    documents: list[Document]\n",
    "    answer: str"
   ]
  },
  {
   "cell_type": "code",
   "execution_count": 2,
   "id": "c6b0309e",
   "metadata": {},
   "outputs": [],
   "source": [
    "sample_docs = [\n",
    "    Document(\n",
    "        page_content=\"\"\"# 환자 의료 기록\n",
    "- 이름: 홍길동\n",
    "- 성별: 남\n",
    "- 나이: 30세\n",
    "## 진료 내역\n",
    "- 2021년 1월 13일: 감기로 인한 발열로 병원 방문\n",
    "- 2022년 3월 15일: 비염 진단으로 약 처방\n",
    "- 2022년 5월 20일: 피부과 진료 및 약 처방\n",
    "- 2022년 6월 10일: 발열 및 기침으로 코로나 검사 및 음성 판정\n",
    "- 2022년 7월 2일: 코로나 진단 검사 및 양성 판정\n",
    "    \"\"\",\n",
    "        metadata={\"domain\": \"records\"},\n",
    "    ),\n",
    "    Document(\n",
    "        page_content=\"\"\"# 보험 FAQ\n",
    "- Q: 과거에 병력이 있는데 가입가능한가요?\n",
    "- A: 치료기간, 현재 상태, 후유증 여부, 연령 등에 따라 다르므로 가입 가능 여부는 가까운 대리점에서 상담 받으세요.\n",
    "\n",
    "- Q: 보험금 청구 방법은 어떻게 되나요??\n",
    "- A: 보험금 청구는 보험금 청구서 작성 후 가까운 대리점을 통해 진행 가능합니다.\n",
    "\n",
    "- Q: 코로나 19도 보험 적용이 되나요?\n",
    "- A: 코로나 19는 보험 대상에 포함되지 않습니다.\n",
    "\n",
    "- Q: 보험금 지급이 거부되는 경우는 어떤 경우인가요?\n",
    "- A: 보험금 지급 거부 사유는 보험 계약서에 명시되어 있습니다. 자세한 사항은 계약서를 참조하세요\n",
    "        \"\"\",\n",
    "        metadata={\"domain\": \"insurance\"},\n",
    "    ),\n",
    "]"
   ]
  },
  {
   "cell_type": "code",
   "execution_count": 3,
   "id": "5efee246",
   "metadata": {},
   "outputs": [],
   "source": [
    "medical_records_store = InMemoryVectorStore.from_documents(sample_docs, embeddings)\n",
    "medical_records_retriever = medical_records_store.as_retriever()\n",
    "\n",
    "insurance_faqs_store = InMemoryVectorStore.from_documents(sample_docs, embeddings)\n",
    "insurance_faqs_retriever = insurance_faqs_store.as_retriever()"
   ]
  },
  {
   "cell_type": "code",
   "execution_count": 4,
   "id": "2967b568",
   "metadata": {},
   "outputs": [],
   "source": [
    "router_prompt = SystemMessage(\n",
    "    \"\"\"사용자 문의를 어느 도메인으로 라우팅할지 결정하세요. 선택할 수 있는 두 가지 도메인은 다음과 같습니다.\n",
    "- records: 진단, 치료, 처방과 같은 환자의 의료 기록을 포함합니다.  \n",
    "- insurance: 보험 정책, 청구, 보장에 대한 자주 묻는 질문을 포함합니다.  \n",
    "\n",
    "도메인 이름만 출력하세요.\"\"\"\n",
    ")"
   ]
  },
  {
   "cell_type": "code",
   "execution_count": 5,
   "id": "2363d00c",
   "metadata": {},
   "outputs": [],
   "source": [
    "def router_node(state: State) -> State:\n",
    "    user_message = HumanMessage(state[\"user_query\"])\n",
    "    messages = [router_prompt, *state[\"messages\"], user_message]\n",
    "    res = model_low_temp.invoke(messages)\n",
    "    return {\n",
    "        \"domain\": res.content,\n",
    "        \"messages\": [user_message, res],\n",
    "    }\n",
    "\n",
    "\n",
    "def pick_retriever(\n",
    "    state: State,\n",
    ") -> Literal[\"retrieve_medical_records\", \"retrieve_insurance_faqs\"]:\n",
    "    if state[\"domain\"] == \"records\":\n",
    "        return \"retrieve_medical_records\"\n",
    "    else:\n",
    "        return \"retrieve_insurance_faqs\"\n",
    "\n",
    "\n",
    "def retrieve_medical_records(state: State) -> State:\n",
    "    documents = medical_records_retriever.invoke(state[\"user_query\"])\n",
    "    return {\n",
    "        \"documents\": documents,\n",
    "    }\n",
    "\n",
    "\n",
    "def retrieve_insurance_faqs(state: State) -> State:\n",
    "    documents = insurance_faqs_retriever.invoke(state[\"user_query\"])\n",
    "    return {\n",
    "        \"documents\": documents,\n",
    "    }"
   ]
  },
  {
   "cell_type": "code",
   "execution_count": 6,
   "id": "7c960b19",
   "metadata": {},
   "outputs": [],
   "source": [
    "medical_records_prompt = SystemMessage(\n",
    "    \"당신은 유능한 의료 챗봇입니다. 진단, 치료, 처방과 같은 환자의 의료 기록을 기반으로 질문에 답하세요.\"\n",
    ")\n",
    "\n",
    "insurance_faqs_prompt = SystemMessage(\n",
    "    \"당신은 유능한 의료 보험 챗봇입니다. 보험 정책, 청구 및 보장에 대한 자주 묻는 질문에 답하세요.\"\n",
    ")"
   ]
  },
  {
   "cell_type": "code",
   "execution_count": 8,
   "id": "565b617d",
   "metadata": {},
   "outputs": [],
   "source": [
    "def generate_answer(state: State) -> State:\n",
    "    if state[\"domain\"] == \"records\":\n",
    "        prompt = medical_records_prompt\n",
    "    else:\n",
    "        prompt = insurance_faqs_prompt\n",
    "    messages = [\n",
    "        prompt,\n",
    "        *state[\"messages\"],\n",
    "        HumanMessage(f\"Documents: {state['documents']}\"),\n",
    "    ]\n",
    "    res = model_high_temp.invoke(messages)\n",
    "    return {\n",
    "        \"answer\": res.content,\n",
    "        \"messages\": res,\n",
    "    }"
   ]
  },
  {
   "cell_type": "code",
   "execution_count": 9,
   "id": "cbbebe23",
   "metadata": {},
   "outputs": [
    {
     "name": "stderr",
     "output_type": "stream",
     "text": [
      "/tmp/ipykernel_9046/2738565863.py:1: LangGraphDeprecatedSinceV05: `input` is deprecated and will be removed. Please use `input_schema` instead. Deprecated in LangGraph V0.5 to be removed in V2.0.\n",
      "  builder = StateGraph(State, input=Input, output=Output)\n",
      "/tmp/ipykernel_9046/2738565863.py:1: LangGraphDeprecatedSinceV05: `output` is deprecated and will be removed. Please use `output_schema` instead. Deprecated in LangGraph V0.5 to be removed in V2.0.\n",
      "  builder = StateGraph(State, input=Input, output=Output)\n"
     ]
    }
   ],
   "source": [
    "builder = StateGraph(State, input=Input, output=Output)\n",
    "builder.add_node(\"router\", router_node)\n",
    "builder.add_node(\"retrieve_medical_records\", retrieve_medical_records)\n",
    "builder.add_node(\"retrieve_insurance_faqs\", retrieve_insurance_faqs)\n",
    "builder.add_node(\"generate_answer\", generate_answer)\n",
    "builder.add_edge(START, \"router\")\n",
    "builder.add_conditional_edges(\"router\", pick_retriever)\n",
    "builder.add_edge(\"retrieve_medical_records\", \"generate_answer\")\n",
    "builder.add_edge(\"retrieve_insurance_faqs\", \"generate_answer\")\n",
    "builder.add_edge(\"generate_answer\", END)\n",
    "\n",
    "graph = builder.compile()"
   ]
  },
  {
   "cell_type": "code",
   "execution_count": 10,
   "id": "3864d580",
   "metadata": {},
   "outputs": [
    {
     "name": "stdout",
     "output_type": "stream",
     "text": [
      "{'router': {'domain': '죄송합니다. 코로나 19에 대한 보험 적용 여부를 알려드릴 수 없습니다.', 'messages': [HumanMessage(content='코로나 19도 보험 적용이 되나요?', additional_kwargs={}, response_metadata={}, id='fdd2f925-3056-4de1-9047-35f4816336d2'), AIMessage(content='죄송합니다. 코로나 19에 대한 보험 적용 여부를 알려드릴 수 없습니다.', additional_kwargs={}, response_metadata={'model': 'gemma3:1b', 'created_at': '2025-10-24T02:10:05.746888269Z', 'done': True, 'done_reason': 'stop', 'total_duration': 3361496498, 'load_duration': 338350477, 'prompt_eval_count': 109, 'prompt_eval_duration': 1765396712, 'eval_count': 20, 'eval_duration': 1239843838, 'model_name': 'gemma3:1b'}, id='run--6ebc46dd-c6ef-4bfb-9d85-725aa3f79e4e-0', usage_metadata={'input_tokens': 109, 'output_tokens': 20, 'total_tokens': 129})]}}\n",
      "{'retrieve_insurance_faqs': {'documents': [Document(id='6409c3f6-447d-47d8-a300-8419abba09f3', metadata={'domain': 'insurance'}, page_content='# 보험 FAQ\\n- Q: 과거에 병력이 있는데 가입가능한가요?\\n- A: 치료기간, 현재 상태, 후유증 여부, 연령 등에 따라 다르므로 가입 가능 여부는 가까운 대리점에서 상담 받으세요.\\n\\n- Q: 보험금 청구 방법은 어떻게 되나요??\\n- A: 보험금 청구는 보험금 청구서 작성 후 가까운 대리점을 통해 진행 가능합니다.\\n\\n- Q: 코로나 19도 보험 적용이 되나요?\\n- A: 코로나 19는 보험 대상에 포함되지 않습니다.\\n\\n- Q: 보험금 지급이 거부되는 경우는 어떤 경우인가요?\\n- A: 보험금 지급 거부 사유는 보험 계약서에 명시되어 있습니다. 자세한 사항은 계약서를 참조하세요\\n        '), Document(id='918e1a6c-07d1-47c1-b2ad-4b3158174378', metadata={'domain': 'records'}, page_content='# 환자 의료 기록\\n- 이름: 홍길동\\n- 성별: 남\\n- 나이: 30세\\n## 진료 내역\\n- 2021년 1월 13일: 감기로 인한 발열로 병원 방문\\n- 2022년 3월 15일: 비염 진단으로 약 처방\\n- 2022년 5월 20일: 피부과 진료 및 약 처방\\n- 2022년 6월 10일: 발열 및 기침으로 코로나 검사 및 음성 판정\\n- 2022년 7월 2일: 코로나 진단 검사 및 양성 판정\\n    ')]}}\n",
      "{'generate_answer': {'answer': '알겠습니다. 제시해주신 정보와 함께 코로나 19에 대한 보험 적용 여부를 설명해 드리겠습니다.\\n\\n**코로나 19에 대한 보험 적용 여부:**\\n\\n현재 제시된 정보에 따르면, 코로나 19는 보험 대상에 포함되지 않습니다. 코로나 19는 질병으로 인한 치료 및 치료 기간에 대한 보상으로 보험이 적용되는 것이기 때문입니다.\\n\\n**추가적으로 확인해야 할 사항:**\\n\\n*   **보험 계약 내용 확인:** 현재 보험 계약을 통해 코로나 19에 대한 보상이 제공되는지 확인하는 것이 중요합니다.\\n*   **대리점 상담:** 가까운 대리점에서 상담을 받아 정확한 정보를 얻으시는 것이 좋습니다.\\n\\n**참고:** 위에 제시된 정보는 현재까지 제공된 정보이며, 보험 정책은 변경될 수 있습니다. 따라서 보험 상품에 대한 자세한 내용은 반드시 보험사에 문의하시기 바랍니다.\\n\\n혹시 다른 질문이 있으시면 언제든지 문의해주세요.', 'messages': AIMessage(content='알겠습니다. 제시해주신 정보와 함께 코로나 19에 대한 보험 적용 여부를 설명해 드리겠습니다.\\n\\n**코로나 19에 대한 보험 적용 여부:**\\n\\n현재 제시된 정보에 따르면, 코로나 19는 보험 대상에 포함되지 않습니다. 코로나 19는 질병으로 인한 치료 및 치료 기간에 대한 보상으로 보험이 적용되는 것이기 때문입니다.\\n\\n**추가적으로 확인해야 할 사항:**\\n\\n*   **보험 계약 내용 확인:** 현재 보험 계약을 통해 코로나 19에 대한 보상이 제공되는지 확인하는 것이 중요합니다.\\n*   **대리점 상담:** 가까운 대리점에서 상담을 받아 정확한 정보를 얻으시는 것이 좋습니다.\\n\\n**참고:** 위에 제시된 정보는 현재까지 제공된 정보이며, 보험 정책은 변경될 수 있습니다. 따라서 보험 상품에 대한 자세한 내용은 반드시 보험사에 문의하시기 바랍니다.\\n\\n혹시 다른 질문이 있으시면 언제든지 문의해주세요.', additional_kwargs={}, response_metadata={'model': 'gemma3:1b', 'created_at': '2025-10-24T02:10:28.409268054Z', 'done': True, 'done_reason': 'stop', 'total_duration': 20215267123, 'load_duration': 404349324, 'prompt_eval_count': 546, 'prompt_eval_duration': 8483731184, 'eval_count': 207, 'eval_duration': 11298150871, 'model_name': 'gemma3:1b'}, id='run--9575f0c0-5e4b-4308-b373-f41c3a403391-0', usage_metadata={'input_tokens': 546, 'output_tokens': 207, 'total_tokens': 753})}}\n"
     ]
    }
   ],
   "source": [
    "input = {\"user_query\": \"코로나 19도 보험 적용이 되나요?\"}\n",
    "for chunk in graph.stream(input):\n",
    "    print(chunk)"
   ]
  },
  {
   "cell_type": "code",
   "execution_count": null,
   "id": "150d4e19",
   "metadata": {},
   "outputs": [],
   "source": []
  }
 ],
 "metadata": {
  "kernelspec": {
   "display_name": "langchain",
   "language": "python",
   "name": "python3"
  },
  "language_info": {
   "codemirror_mode": {
    "name": "ipython",
    "version": 3
   },
   "file_extension": ".py",
   "mimetype": "text/x-python",
   "name": "python",
   "nbconvert_exporter": "python",
   "pygments_lexer": "ipython3",
   "version": "3.11.13"
  }
 },
 "nbformat": 4,
 "nbformat_minor": 5
}
