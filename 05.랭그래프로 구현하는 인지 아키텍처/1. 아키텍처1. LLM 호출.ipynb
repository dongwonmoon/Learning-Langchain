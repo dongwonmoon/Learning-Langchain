{
 "cells": [
  {
   "cell_type": "code",
   "execution_count": null,
   "id": "d71b0ed9",
   "metadata": {},
   "outputs": [],
   "source": [
    "from typing import Annotated, TypedDict\n",
    "\n",
    "from langchain_core.messages import HumanMessage\n",
    "from langchain_ollama import ChatOllama\n",
    "from langgraph.graph import StateGraph, START, END, add_messages\n",
    "from langgraph.checkpoint.memory import MemorySaver\n",
    "\n",
    "\n",
    "class State(TypedDict):\n",
    "    messages: Annotated[list, add_messages]\n",
    "\n",
    "\n",
    "builder = StateGraph(State)\n",
    "\n",
    "model = ChatOllama(model=\"gemma3:1b\")\n",
    "\n",
    "\n",
    "def chatbot(state: State):\n",
    "    answer = model.invoke(state[\"messages\"])\n",
    "    return {\"messages\": [answer]}\n",
    "\n",
    "\n",
    "builder.add_node(\"chatbot\", chatbot)\n",
    "builder.add_edge(START, \"chatbot\")\n",
    "builder.add_edge(\"chatbot\", END)\n",
    "\n",
    "graph = builder.compile()"
   ]
  },
  {
   "cell_type": "code",
   "execution_count": 8,
   "id": "fb02454a",
   "metadata": {},
   "outputs": [
    {
     "name": "stdout",
     "output_type": "stream",
     "text": [
      "{'chatbot': {'messages': [AIMessage(content='안녕하세요! 무엇을 도와드릴까요? 😊 \\n\\n무엇을 궁금해하시거나, 필요한 도움이 있으세요?', additional_kwargs={}, response_metadata={'model': 'gemma3:1b', 'created_at': '2025-10-24T01:16:46.486803146Z', 'done': True, 'done_reason': 'stop', 'total_duration': 2601590976, 'load_duration': 1728796183, 'prompt_eval_count': 11, 'prompt_eval_duration': 145875389, 'eval_count': 25, 'eval_duration': 721247265, 'model_name': 'gemma3:1b'}, id='run--07c7a59f-958b-4347-ae40-c2f2c2acc564-0', usage_metadata={'input_tokens': 11, 'output_tokens': 25, 'total_tokens': 36})]}}\n"
     ]
    }
   ],
   "source": [
    "input = {\"messages\": [HumanMessage(\"안녕하세요!\")]}\n",
    "for chunk in graph.stream(input):\n",
    "    print(chunk)"
   ]
  },
  {
   "cell_type": "code",
   "execution_count": null,
   "id": "8277e88f",
   "metadata": {},
   "outputs": [],
   "source": []
  },
  {
   "cell_type": "code",
   "execution_count": null,
   "id": "08d949fd",
   "metadata": {},
   "outputs": [],
   "source": []
  }
 ],
 "metadata": {
  "kernelspec": {
   "display_name": "langchain",
   "language": "python",
   "name": "python3"
  },
  "language_info": {
   "codemirror_mode": {
    "name": "ipython",
    "version": 3
   },
   "file_extension": ".py",
   "mimetype": "text/x-python",
   "name": "python",
   "nbconvert_exporter": "python",
   "pygments_lexer": "ipython3",
   "version": "3.11.13"
  }
 },
 "nbformat": 4,
 "nbformat_minor": 5
}
