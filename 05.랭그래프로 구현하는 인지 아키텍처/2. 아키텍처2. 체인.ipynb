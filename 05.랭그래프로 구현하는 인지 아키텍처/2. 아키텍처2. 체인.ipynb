{
 "cells": [
  {
   "cell_type": "code",
   "execution_count": 1,
   "id": "63eb796f",
   "metadata": {},
   "outputs": [
    {
     "name": "stderr",
     "output_type": "stream",
     "text": [
      "/home/anseh/.pyenv/versions/langchain/lib/python3.11/site-packages/tqdm/auto.py:21: TqdmWarning: IProgress not found. Please update jupyter and ipywidgets. See https://ipywidgets.readthedocs.io/en/stable/user_install.html\n",
      "  from .autonotebook import tqdm as notebook_tqdm\n"
     ]
    }
   ],
   "source": [
    "from typing import Annotated, TypedDict\n",
    "\n",
    "from langchain_core.messages import HumanMessage, SystemMessage\n",
    "from langchain_ollama import ChatOllama\n",
    "from langgraph.graph import END, START, StateGraph\n",
    "from langgraph.graph.message import add_messages\n",
    "\n",
    "# SQL 쿼리 생성용\n",
    "model_low_temp = ChatOllama(model=\"gemma3:1b\", temperature=0.1)\n",
    "# 자연어 출력 생성용\n",
    "model_high_temp = ChatOllama(model=\"gemma3:1b\", temperature=0.7)"
   ]
  },
  {
   "cell_type": "code",
   "execution_count": 2,
   "id": "4873789d",
   "metadata": {},
   "outputs": [],
   "source": [
    "class State(TypedDict):\n",
    "    messages: Annotated[list, add_messages]\n",
    "    user_query: str\n",
    "    sql_query: str\n",
    "    sql_explanation: str\n",
    "\n",
    "\n",
    "class Input(TypedDict):\n",
    "    user_query: str\n",
    "\n",
    "\n",
    "class Output(TypedDict):\n",
    "    sql_query: str\n",
    "    sql_explanation: str"
   ]
  },
  {
   "cell_type": "code",
   "execution_count": 3,
   "id": "f04bfad9",
   "metadata": {},
   "outputs": [],
   "source": [
    "generate_prompt = SystemMessage(\n",
    "    \"당신은 친절한 데이터 분석가입니다. 사용자의 질문을 바탕으로 SQL쿼리를 작성하세요.\"\n",
    ")"
   ]
  },
  {
   "cell_type": "code",
   "execution_count": 4,
   "id": "0b14947a",
   "metadata": {},
   "outputs": [],
   "source": [
    "def generate_sql(state: State) -> State:\n",
    "    user_message = HumanMessage(state[\"user_query\"])\n",
    "    messages = [generate_prompt, *state[\"messages\"], user_message]\n",
    "    res = model_low_temp.invoke(messages)\n",
    "    return {\"sql_query\": res.content, \"messages\": [user_message, res]}"
   ]
  },
  {
   "cell_type": "code",
   "execution_count": 5,
   "id": "ff7dc9cf",
   "metadata": {},
   "outputs": [],
   "source": [
    "explain_prompt = SystemMessage(\n",
    "    \"당신은 친절한 데이터 분석가입니다. 사용자에게 SQL쿼리를 설명하세요.\"\n",
    ")"
   ]
  },
  {
   "cell_type": "code",
   "execution_count": 6,
   "id": "42f6d946",
   "metadata": {},
   "outputs": [],
   "source": [
    "def explain_sql(state: State) -> State:\n",
    "    messages = [explain_prompt, *state[\"messages\"]]\n",
    "    res = model_high_temp.invoke(messages)\n",
    "    return {\"sql_explanation\": res.content, \"messages\": res}"
   ]
  },
  {
   "cell_type": "code",
   "execution_count": 7,
   "id": "bde5d48a",
   "metadata": {},
   "outputs": [],
   "source": [
    "builder = StateGraph(State, input_schema=Input, output_schema=Output)\n",
    "builder.add_node(\"generate_sql\", generate_sql)\n",
    "builder.add_node(\"explain_sql\", explain_sql)\n",
    "builder.add_edge(START, \"generate_sql\")\n",
    "builder.add_edge(\"generate_sql\", \"explain_sql\")\n",
    "builder.add_edge(\"explain_sql\", END)\n",
    "\n",
    "graph = builder.compile()"
   ]
  },
  {
   "cell_type": "code",
   "execution_count": 8,
   "id": "ea60dea6",
   "metadata": {},
   "outputs": [
    {
     "name": "stdout",
     "output_type": "stream",
     "text": [
      "{'sql_query': '알겠습니다. 어떤 데이터가 가지고 있는지 알려주시면 SQL 쿼리를 작성해 드리겠습니다. \\n\\n데이터가 어떤 형태로 제공되어 있는지 (예: CSV 파일, 데이터베이스 테이블, 스프레드시트 등) 알려주세요. \\n\\n데이터를 제공해주시면, 다음과 같은 정보를 추출하여 SQL 쿼리를 작성해 드리겠습니다.\\n\\n*   **판매량:** 각 품목별 판매량\\n*   **품목:** 품목 이름\\n*   **판매일:** 판매일 (선택 사항)\\n*   **판매처:** 판매처 (선택 사항)\\n\\n데이터를 제공해주시면, 필요한 SQL 쿼리를 작성해 드리겠습니다.', 'sql_explanation': \"\\n\\n**예시:**\\n\\n만약 CSV 파일에 다음과 같은 데이터가 있다고 가정해 보겠습니다.\\n\\n```csv\\n품목,판매일,판매량\\n제품A,2023-10-26,100\\n제품B,2023-10-26,50\\n제품A,2023-10-27,120\\n제품C,2023-10-27,80\\n```\\n\\n위와 같은 데이터를 사용하면 다음과 같은 SQL 쿼리를 작성할 수 있습니다.\\n\\n```sql\\nSELECT 품목, 판매량\\nFROM 데이터\\nWHERE 판매일 = '2023-10-26'\\nORDER BY 판매량 DESC;\\n```\\n\\n**데이터를 알려주시면 위와 같은 쿼리를 작성해 드리겠습니다.**\"}\n"
     ]
    }
   ],
   "source": [
    "result = graph.invoke({\"user_query\": \"각 품목의 판매량을 구해주세요.\"})\n",
    "print(result)"
   ]
  }
 ],
 "metadata": {
  "kernelspec": {
   "display_name": "langchain",
   "language": "python",
   "name": "python3"
  },
  "language_info": {
   "codemirror_mode": {
    "name": "ipython",
    "version": 3
   },
   "file_extension": ".py",
   "mimetype": "text/x-python",
   "name": "python",
   "nbconvert_exporter": "python",
   "pygments_lexer": "ipython3",
   "version": "3.11.13"
  }
 },
 "nbformat": 4,
 "nbformat_minor": 5
}
