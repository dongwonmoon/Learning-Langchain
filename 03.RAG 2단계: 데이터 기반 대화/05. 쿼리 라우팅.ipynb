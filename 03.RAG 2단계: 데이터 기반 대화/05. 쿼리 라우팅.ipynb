{
 "cells": [
  {
   "cell_type": "code",
   "execution_count": 1,
   "id": "9fefc4e4",
   "metadata": {},
   "outputs": [
    {
     "name": "stderr",
     "output_type": "stream",
     "text": [
      "/home/anseh/.pyenv/versions/langchain/lib/python3.11/site-packages/tqdm/auto.py:21: TqdmWarning: IProgress not found. Please update jupyter and ipywidgets. See https://ipywidgets.readthedocs.io/en/stable/user_install.html\n",
      "  from .autonotebook import tqdm as notebook_tqdm\n"
     ]
    }
   ],
   "source": [
    "from typing import Literal\n",
    "\n",
    "from langchain_core.prompts import ChatPromptTemplate\n",
    "from pydantic import BaseModel, Field\n",
    "from langchain_ollama import ChatOllama\n",
    "from langchain_core.runnables import RunnableLambda\n",
    "\n",
    "\n",
    "# 데이터 모델 클래스\n",
    "class RouteQuery(BaseModel):\n",
    "    datasource: Literal[\"python_docs\", \"js_docs\"] = Field(\n",
    "        ...,\n",
    "        description=\"Given a user question, choose which datasource would be most relevant for answering their question\",\n",
    "    )"
   ]
  },
  {
   "cell_type": "code",
   "execution_count": 2,
   "id": "f345e37b",
   "metadata": {},
   "outputs": [],
   "source": [
    "# 프롬프트 템플릿\n",
    "# 함수 호출\n",
    "llm = ChatOllama(model=\"gemma3:1b\", temperature=0)\n",
    "\n",
    "\"\"\"\n",
    "with_structured_output: 주어진 스키마와 일치하도록 형식화된 출력을 반환하는 모델 래퍼\n",
    "\n",
    "\"\"\"\n",
    "structured_llm = llm.with_structured_output(RouteQuery)\n",
    "\n",
    "# 프롬프트\n",
    "system = \"\"\"당신은 사용자 질문을 적절한 데이터 소스로 라우팅하는 전문가입니다. 질문이 지목하는 프로그래밍 언어에 따라 해당 데이터 소스로 라우팅하세요.\"\"\"\n",
    "prompt = ChatPromptTemplate.from_messages([(\"system\", system), (\"human\", \"{question}\")])\n",
    "\n",
    "# 라우터 정의\n",
    "router = prompt | structured_llm"
   ]
  },
  {
   "cell_type": "code",
   "execution_count": 3,
   "id": "ead9f429",
   "metadata": {},
   "outputs": [
    {
     "name": "stdout",
     "output_type": "stream",
     "text": [
      "\n",
      "Routing to:  datasource='python_docs'\n",
      "\n",
      "Choose route:  chain for python_docs\n"
     ]
    }
   ],
   "source": [
    "# 실행\n",
    "question = \"\"\"이 코드가 안 돌아가는 이유를 설명해주세요: \n",
    "from langchain_core.prompts \n",
    "import ChatPromptTemplate \n",
    "prompt = ChatPromptTemplate.from_messages(['human', 'speak in {language}']) \n",
    "prompt.invoke('french') \"\"\"\n",
    "\n",
    "result = router.invoke({\"question\": question})\n",
    "print(\"\\nRouting to: \", result)\n",
    "\n",
    "\n",
    "def choose_route(result):\n",
    "    if \"python_docs\" in result.datasource.lower():\n",
    "        return \"chain for python_docs\"\n",
    "    else:\n",
    "        return \"chain for js_docs\"\n",
    "\n",
    "\n",
    "full_chain = router | RunnableLambda(choose_route)\n",
    "\n",
    "result = full_chain.invoke({\"question\": question})\n",
    "print(\"\\nChoose route: \", result)"
   ]
  },
  {
   "cell_type": "markdown",
   "id": "b8d5add1",
   "metadata": {},
   "source": [
    "### 의미론적 라우팅"
   ]
  },
  {
   "cell_type": "code",
   "execution_count": null,
   "id": "75daaeb2",
   "metadata": {},
   "outputs": [],
   "source": [
    "from langchain.utils.math import cosine_similarity\n",
    "from langchain_core.output_parsers import StrOutputParser\n",
    "from langchain_core.prompts import PromptTemplate\n",
    "from langchain_core.runnables import chain\n",
    "from langchain_ollama import ChatOllama, OllamaEmbeddings\n",
    "\n",
    "physics_template = \"\"\"당신은 매우 똑똑한 물리학 교수입니다. \n",
    "    당신은 물리학에 대한 질문에 간결하고 쉽게 이해할 수 있는 방식으로 대답하는 데 뛰어납니다.\n",
    "    당신이 질문에 대한 답을 모를 때는 모른다고 인정합니다.\n",
    "    다음 질문에 답하세요.: {query}\n",
    "    \"\"\"\n",
    "math_template = \"\"\"\n",
    "    당신은 매우 뛰어난 수학자입니다. 당신은 수학 문제에 답하는 데 뛰어납니다.\n",
    "    당신은 어려운 문제를 구성 요소로 분해하고 구성 요소를 해결한 다음\n",
    "    함께 모아 더 넓은 질문에 대답합니다.\n",
    "    다음 질문에 답하세요.: {query}\n",
    "    \"\"\"\n",
    "\n",
    "# 임베딩\n",
    "embeddings = OllamaEmbeddings(model=\"nomic-embed-text\")\n",
    "prompt_templates = [physics_template, math_template]\n",
    "prompt_embeddings = embeddings.embed_documents(prompt_templates)"
   ]
  },
  {
   "cell_type": "code",
   "execution_count": null,
   "id": "350e020f",
   "metadata": {},
   "outputs": [],
   "source": [
    "@chain\n",
    "def prompt_router(query):\n",
    "    query_embedding = embeddings.embed_query(query)\n",
    "    similarity = cosine_similarity([query_embedding], prompt_embeddings)[0]\n",
    "    most_similar = prompt_templates[similarity.argmax()]\n",
    "    print(\n",
    "        \"수학 프롬프트 사용\" if most_similar == math_template else \"물리 프롬프트 사용\"\n",
    "    )\n",
    "    return PromptTemplate.from_template(most_similar)\n",
    "\n",
    "\n",
    "semantic_router = prompt_router | ChatOllama(model=\"gemma3:1b\") | StrOutputParser()\n",
    "\n",
    "result = semantic_router.invoke(\"블랙홀이란 무엇인가요?\")\n",
    "print(\"\\n의미론적 라우팅 결과: \", result)"
   ]
  },
  {
   "cell_type": "code",
   "execution_count": null,
   "id": "a544de11",
   "metadata": {},
   "outputs": [],
   "source": []
  }
 ],
 "metadata": {
  "kernelspec": {
   "display_name": "langchain",
   "language": "python",
   "name": "python3"
  },
  "language_info": {
   "codemirror_mode": {
    "name": "ipython",
    "version": 3
   },
   "file_extension": ".py",
   "mimetype": "text/x-python",
   "name": "python",
   "nbconvert_exporter": "python",
   "pygments_lexer": "ipython3",
   "version": "3.11.13"
  }
 },
 "nbformat": 4,
 "nbformat_minor": 5
}
