{
 "cells": [
  {
   "cell_type": "markdown",
   "id": "bda1650b",
   "metadata": {},
   "source": [
    "### 기본 LLM 호출"
   ]
  },
  {
   "cell_type": "code",
   "execution_count": null,
   "id": "b7ff786d",
   "metadata": {},
   "outputs": [
    {
     "data": {
      "text/plain": [
       "'하늘이란 지구 위쪽에 있는 우주를 말합니다. 하늘이라는 단어는 한국어로 \"고리\" 또는 \"가위\"라는 의미도 가지고 있습니다.\\n\\n하늘은 지구의 기울기와 부피가 다양한 형태의 물질로 구성되어 있기 때문에 달 like한 모습을 보입니다. 하늘이란 우주에 있는 모든 물질을 가리키는 용어로, 지구 위쪽에있는 대氣 layer에서 태양으로부터 오는 광선을 받은 부분을 \"하늘\"이라고 부릅니다.\\n\\n하늘이란 지구의 기울기와 부피가 다양한 형태의 물질로 구성되어 있기 때문에 달 like한 모습을 보입니다. 하늘이란 우주에 있는 모든 물질을 가리키는 용어로, 지구 위쪽에있는 대氣 layer에서 태양으로부터 오는 광선을 받은 부분을 \"하늘\"이라고 부릅니다.\\n\\n하늘은 다음과 같은 특징이 있습니다:\\n\\n*   상자와 가위의 형태로 보입니다.\\n*   지구 위쪽에 위치합니다.\\n*   우주에 있는 모든 물질을 가리키는 용어입니다.'"
      ]
     },
     "execution_count": 3,
     "metadata": {},
     "output_type": "execute_result"
    }
   ],
   "source": [
    "from langchain_ollama.llms import OllamaLLM\n",
    "\n",
    "model = OllamaLLM(model=\"llama3.2:3b\")\n",
    "\n",
    "# 대화형 X\n",
    "model.invoke(\"하늘이\")"
   ]
  },
  {
   "cell_type": "markdown",
   "id": "98364763",
   "metadata": {},
   "source": [
    "### Chat 모델 호출"
   ]
  },
  {
   "cell_type": "code",
   "execution_count": 5,
   "id": "55524947",
   "metadata": {},
   "outputs": [
    {
     "data": {
      "text/plain": [
       "AIMessage(content='프랑스의 수도는 파리입니다.', additional_kwargs={}, response_metadata={'model': 'llama3.2:3b', 'created_at': '2025-10-01T23:40:23.201993735Z', 'done': True, 'done_reason': 'stop', 'total_duration': 10199261263, 'load_duration': 7130952298, 'prompt_eval_count': 34, 'prompt_eval_duration': 1628645764, 'eval_count': 10, 'eval_duration': 1430820959, 'model_name': 'llama3.2:3b'}, id='run--22d76288-b09b-476f-a4b0-27e041f0d5d8-0', usage_metadata={'input_tokens': 34, 'output_tokens': 10, 'total_tokens': 44})"
      ]
     },
     "execution_count": 5,
     "metadata": {},
     "output_type": "execute_result"
    }
   ],
   "source": [
    "from langchain_ollama.chat_models import ChatOllama\n",
    "from langchain_core.messages import HumanMessage, SystemMessage\n",
    "\n",
    "model = ChatOllama(model=\"llama3.2:3b\")\n",
    "prompt = [HumanMessage(\"프랑스의 수도는 어디인가요?\")]\n",
    "\n",
    "model.invoke(prompt)"
   ]
  },
  {
   "cell_type": "code",
   "execution_count": null,
   "id": "4b830205",
   "metadata": {},
   "outputs": [
    {
     "data": {
      "text/plain": [
       "AIMessage(content='프랑스의 수도는 파리입니다!', additional_kwargs={}, response_metadata={'model': 'llama3.2:3b', 'created_at': '2025-10-01T23:41:49.54795647Z', 'done': True, 'done_reason': 'stop', 'total_duration': 2240721521, 'load_duration': 76491063, 'prompt_eval_count': 60, 'prompt_eval_duration': 1242698840, 'eval_count': 10, 'eval_duration': 919169909, 'model_name': 'llama3.2:3b'}, id='run--ae3ef21c-be0d-449d-81cb-b01a315f0710-0', usage_metadata={'input_tokens': 60, 'output_tokens': 10, 'total_tokens': 70})"
      ]
     },
     "execution_count": 13,
     "metadata": {},
     "output_type": "execute_result"
    }
   ],
   "source": [
    "prompt = [\n",
    "    SystemMessage(\"당신은 문장 끝에 !를 3개 붙여 대답하는 친절한 어시스턴트입니다.\"),\n",
    "    HumanMessage(\"프랑스의 수도는 어디인가요?\"),\n",
    "]\n",
    "\n",
    "model.invoke(prompt)"
   ]
  },
  {
   "cell_type": "code",
   "execution_count": null,
   "id": "e93eb636",
   "metadata": {},
   "outputs": [],
   "source": []
  },
  {
   "cell_type": "code",
   "execution_count": null,
   "metadata": {},
   "outputs": [],
   "source": []
  },
  {
   "cell_type": "code",
   "execution_count": null,
   "id": "96dc7699",
   "metadata": {},
   "outputs": [],
   "source": []
  },
  {
   "cell_type": "code",
   "execution_count": null,
   "id": "efc115d6",
   "metadata": {},
   "outputs": [],
   "source": []
  }
 ],
 "metadata": {
  "kernelspec": {
   "display_name": "langchain",
   "language": "python",
   "name": "python3"
  },
  "language_info": {
   "codemirror_mode": {
    "name": "ipython",
    "version": 3
   },
   "file_extension": ".py",
   "mimetype": "text/x-python",
   "name": "python",
   "nbconvert_exporter": "python",
   "pygments_lexer": "ipython3",
   "version": "3.11.13"
  }
 },
 "nbformat": 4,
 "nbformat_minor": 5
}
