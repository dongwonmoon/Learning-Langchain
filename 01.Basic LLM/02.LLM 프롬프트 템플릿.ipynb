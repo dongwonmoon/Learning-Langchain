{
 "cells": [
  {
   "cell_type": "code",
   "execution_count": null,
   "id": "68039ab0",
   "metadata": {},
   "outputs": [
    {
     "name": "stdout",
     "output_type": "stream",
     "text": [
      "text='아래 작성한 컨텍스트(Context)를 기반으로\\n    질문(Question)에 대답하세요. 제공된 정보로 대답할 수 없는 질문이라면 \"모르겠어요.\" 라고 답하세요.\\n\\nContext: 거대 언어 모델(LLM)은 자연어 처리(NLP) 분야의 최신 발전을 이끌고 있습니다.\\n    거대 언어 모델은 더 작은 모델보다 우수한 성능을 보이며, NLP 기능을 갖춘 애플리케이션을 개발하는 개발자들에게\\n    매우 중요한 도구가 되었습니다. 개발자들은 Hugging Face의 `transformers` 라이브러리를\\n    활용하거나, `openai` 및 `cohere` 라이브러리를 통해 OpenAI와 Cohere의 서비스를 이용하여\\n    거대 언어 모델을 활용할 수 있습니다.\\n    \\n\\nQuestion: 거대 언어 모델은 어디서 제공하나요?\\n\\nAnswer: '\n"
     ]
    }
   ],
   "source": [
    "from langchain_core.prompts import PromptTemplate\n",
    "\n",
    "template = PromptTemplate.from_template(\n",
    "    \"\"\"아래 작성한 컨텍스트(Context)를 기반으로\n",
    "    질문(Question)에 대답하세요. 제공된 정보로 대답할 수 없는 질문이라면 \"모르겠어요.\" 라고 답하세요.\n",
    "\n",
    "Context: {context}\n",
    "\n",
    "Question: {question}\n",
    "\n",
    "Answer: \"\"\"\n",
    ")\n",
    "\n",
    "response = template.invoke(\n",
    "    {\n",
    "        \"context\": \"\"\"거대 언어 모델(LLM)은 자연어 처리(NLP) 분야의 최신 발전을 이끌고 있습니다.\n",
    "    거대 언어 모델은 더 작은 모델보다 우수한 성능을 보이며, NLP 기능을 갖춘 애플리케이션을 개발하는 개발자들에게\n",
    "    매우 중요한 도구가 되었습니다. 개발자들은 Hugging Face의 `transformers` 라이브러리를\n",
    "    활용하거나, `openai` 및 `cohere` 라이브러리를 통해 OpenAI와 Cohere의 서비스를 이용하여\n",
    "    거대 언어 모델을 활용할 수 있습니다.\n",
    "    \"\"\",\n",
    "        \"question\": \"거대 언어 모델은 어디서 제공하나요?\",\n",
    "    }\n",
    ")\n",
    "\n",
    "print(response)"
   ]
  },
  {
   "cell_type": "code",
   "execution_count": null,
   "id": "0826a49d",
   "metadata": {},
   "outputs": [
    {
     "name": "stdout",
     "output_type": "stream",
     "text": [
      "messages=[SystemMessage(content='아래 작성한 컨텍스트(Context)를 기반으로\\n    질문(Question)에 대답하세요. 제공된 정보로 대답할 수 없는 질문이라면 \"모르겠어요.\" 라고 답하세요.', additional_kwargs={}, response_metadata={}), HumanMessage(content='Context: 거대 언어 모델(LLM)은 자연어 처리(NLP) 분야의 최신 발전을 이끌고 있습니다.\\n    거대 언어 모델은 더 작은 모델보다 우수한 성능을 보이며, NLP 기능을 갖춘 애플리케이션을 개발하는 개발자들에게\\n    매우 중요한 도구가 되었습니다. 개발자들은 Hugging Face의 `transformers` 라이브러리를\\n    활용하거나, `openai` 및 `cohere` 라이브러리를 통해 OpenAI와 Cohere의 서비스를 이용하여\\n    거대 언어 모델을 활용할 수 있습니다.\\n    ', additional_kwargs={}, response_metadata={}), HumanMessage(content='Question: 거대 언어 모델은 어디서 제공하나요?', additional_kwargs={}, response_metadata={})]\n"
     ]
    }
   ],
   "source": [
    "from langchain_core.prompts import ChatPromptTemplate\n",
    "\n",
    "template = ChatPromptTemplate.from_messages(\n",
    "    [\n",
    "        (\n",
    "            \"system\",\n",
    "            \"\"\"아래 작성한 컨텍스트(Context)를 기반으로\n",
    "    질문(Question)에 대답하세요. 제공된 정보로 대답할 수 없는 질문이라면 \"모르겠어요.\" 라고 답하세요.\"\"\",\n",
    "        ),\n",
    "        (\"human\", \"Context: {context}\"),\n",
    "        (\"human\", \"Question: {question}\"),\n",
    "    ]\n",
    ")\n",
    "\n",
    "response = template.invoke(\n",
    "    {\n",
    "        \"context\": \"\"\"거대 언어 모델(LLM)은 자연어 처리(NLP) 분야의 최신 발전을 이끌고 있습니다.\n",
    "    거대 언어 모델은 더 작은 모델보다 우수한 성능을 보이며, NLP 기능을 갖춘 애플리케이션을 개발하는 개발자들에게\n",
    "    매우 중요한 도구가 되었습니다. 개발자들은 Hugging Face의 `transformers` 라이브러리를\n",
    "    활용하거나, `openai` 및 `cohere` 라이브러리를 통해 OpenAI와 Cohere의 서비스를 이용하여\n",
    "    거대 언어 모델을 활용할 수 있습니다.\n",
    "    \"\"\",\n",
    "        \"question\": \"거대 언어 모델은 어디서 제공하나요?\",\n",
    "    }\n",
    ")\n",
    "\n",
    "print(response)"
   ]
  },
  {
   "cell_type": "code",
   "execution_count": null,
   "id": "2300c499",
   "metadata": {},
   "outputs": [],
   "source": []
  }
 ],
 "metadata": {
  "kernelspec": {
   "display_name": "langchain",
   "language": "python",
   "name": "python3"
  },
  "language_info": {
   "codemirror_mode": {
    "name": "ipython",
    "version": 3
   },
   "file_extension": ".py",
   "mimetype": "text/x-python",
   "name": "python",
   "nbconvert_exporter": "python",
   "pygments_lexer": "ipython3",
   "version": "3.11.13"
  }
 },
 "nbformat": 4,
 "nbformat_minor": 5
}
