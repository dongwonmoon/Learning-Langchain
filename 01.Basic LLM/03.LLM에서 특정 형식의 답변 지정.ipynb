{
 "cells": [
  {
   "cell_type": "code",
   "execution_count": null,
   "id": "2dad7b9c",
   "metadata": {},
   "outputs": [
    {
     "name": "stdout",
     "output_type": "stream",
     "text": [
      "{\"answer\":\"벽돌\",\"justification\":\"wall brick와 깃털은 두 가지 물질이지만, wall brick는 가볍고, 깃털은 무거우며, wall brick의 무게가 깃털보다 더 많습니다.\"}\n"
     ]
    }
   ],
   "source": [
    "from langchain_ollama.chat_models import ChatOllama\n",
    "from pydantic import BaseModel\n",
    "\n",
    "\n",
    "class AnswerWithJustification(BaseModel):\n",
    "    \"\"\"사용자의 질문에 대한 답변과 그에 대한 근거를 함께 제공하세요.\"\"\"\n",
    "\n",
    "    answer: str\n",
    "    \"\"\"사용자 질문에 대한 답변\"\"\"\n",
    "    justification: str\n",
    "    \"\"\"답변에 대한 근거\"\"\"\n",
    "\n",
    "\n",
    "llm = ChatOllama(model=\"llama3.2:3b\", temperature=0)\n",
    "structured_llm = llm.with_structured_output(AnswerWithJustification)\n",
    "\n",
    "result = structured_llm.invoke(\n",
    "    \"1 킬로그램의 벽돌과 1 킬로그램의 깃털 중 어느 쪽이 더 무겁나요?\"\n",
    ")\n",
    "print(result.model_dump_json())"
   ]
  },
  {
   "cell_type": "code",
   "execution_count": 6,
   "id": "faa8e15b",
   "metadata": {},
   "outputs": [
    {
     "name": "stdout",
     "output_type": "stream",
     "text": [
      "['apple', 'banana', 'cherry']\n"
     ]
    }
   ],
   "source": [
    "# CSV 출력 파서\n",
    "from langchain_core.output_parsers import CommaSeparatedListOutputParser\n",
    "\n",
    "parser = CommaSeparatedListOutputParser()\n",
    "items = parser.invoke(\"apple, banana, cherry\")\n",
    "print(items)"
   ]
  },
  {
   "cell_type": "code",
   "execution_count": null,
   "id": "1657790b",
   "metadata": {},
   "outputs": [],
   "source": []
  }
 ],
 "metadata": {
  "kernelspec": {
   "display_name": "langchain",
   "language": "python",
   "name": "python3"
  },
  "language_info": {
   "codemirror_mode": {
    "name": "ipython",
    "version": 3
   },
   "file_extension": ".py",
   "mimetype": "text/x-python",
   "name": "python",
   "nbconvert_exporter": "python",
   "pygments_lexer": "ipython3",
   "version": "3.11.13"
  }
 },
 "nbformat": 4,
 "nbformat_minor": 5
}
